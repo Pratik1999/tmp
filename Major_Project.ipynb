{
  "nbformat": 4,
  "nbformat_minor": 0,
  "metadata": {
    "colab": {
      "name": "Major Project.ipynb",
      "provenance": [],
      "collapsed_sections": [],
      "mount_file_id": "1IVdmUfYcbbQl9C0OTCEogxKX1fG0BNnx",
      "authorship_tag": "ABX9TyPj0akVNCBGyy0FHqsGy6VC",
      "include_colab_link": true
    },
    "kernelspec": {
      "name": "python3",
      "display_name": "Python 3"
    },
    "language_info": {
      "name": "python"
    },
    "accelerator": "GPU"
  },
  "cells": [
    {
      "cell_type": "markdown",
      "metadata": {
        "id": "view-in-github",
        "colab_type": "text"
      },
      "source": [
        "<a href=\"https://colab.research.google.com/github/Pratik1999/tmp/blob/main/Major_Project.ipynb\" target=\"_parent\"><img src=\"https://colab.research.google.com/assets/colab-badge.svg\" alt=\"Open In Colab\"/></a>"
      ]
    },
    {
      "cell_type": "code",
      "metadata": {
        "colab": {
          "base_uri": "https://localhost:8080/"
        },
        "id": "iMp0pDjBzU_x",
        "outputId": "ed43e912-5514-4b15-f52c-0d2cec3f060f"
      },
      "source": [
        "import pandas as pd\n",
        "import seaborn as sns\n",
        "import numpy as np\n",
        "import matplotlib.pyplot as plt\n",
        "\n",
        "from nltk.corpus import stopwords\n",
        "from bs4 import BeautifulSoup\n",
        "import re\n",
        "from nltk.corpus import stopwords\n",
        "from nltk.tokenize import word_tokenize\n",
        "from nltk.stem import WordNetLemmatizer\n",
        "from nltk.tokenize import word_tokenize\n",
        "from nltk.stem.porter import PorterStemmer\n",
        "\n",
        "from sklearn.utils import shuffle\n",
        "\n",
        "from sklearn.linear_model import LogisticRegression\n",
        "\n",
        "\n",
        "from sklearn.metrics import classification_report,confusion_matrix,accuracy_score\n",
        "\n",
        "\n",
        "import os\n",
        "\n",
        "import nltk\n",
        "nltk.download('stopwords')\n",
        "nltk.download('punkt')"
      ],
      "execution_count": null,
      "outputs": [
        {
          "output_type": "stream",
          "text": [
            "[nltk_data] Downloading package stopwords to /root/nltk_data...\n",
            "[nltk_data]   Package stopwords is already up-to-date!\n",
            "[nltk_data] Downloading package punkt to /root/nltk_data...\n",
            "[nltk_data]   Package punkt is already up-to-date!\n"
          ],
          "name": "stdout"
        },
        {
          "output_type": "execute_result",
          "data": {
            "text/plain": [
              "True"
            ]
          },
          "metadata": {
            "tags": []
          },
          "execution_count": 165
        }
      ]
    },
    {
      "cell_type": "code",
      "metadata": {
        "id": "EK68cPByz_a_"
      },
      "source": [
        "VALIDATION_SPLIT = 0.2"
      ],
      "execution_count": null,
      "outputs": []
    },
    {
      "cell_type": "code",
      "metadata": {
        "id": "KCh4_Oxgzy7R"
      },
      "source": [
        "imdb_data=pd.read_csv('/content/drive/MyDrive/movie_data.csv',error_bad_lines=False)"
      ],
      "execution_count": null,
      "outputs": []
    },
    {
      "cell_type": "code",
      "metadata": {
        "colab": {
          "base_uri": "https://localhost:8080/"
        },
        "id": "ZwjCJ0Fmz13P",
        "outputId": "63daff01-4cc5-4a48-844e-a286e2b81c9f"
      },
      "source": [
        "imdb_data.shape"
      ],
      "execution_count": null,
      "outputs": [
        {
          "output_type": "execute_result",
          "data": {
            "text/plain": [
              "(50000, 2)"
            ]
          },
          "metadata": {
            "tags": []
          },
          "execution_count": 4
        }
      ]
    },
    {
      "cell_type": "code",
      "metadata": {
        "colab": {
          "base_uri": "https://localhost:8080/",
          "height": 204
        },
        "id": "RIRqRaRg0b6B",
        "outputId": "cf7b2d1f-7118-4d30-c7ad-de89cf507d1c"
      },
      "source": [
        "imdb_data.head()"
      ],
      "execution_count": null,
      "outputs": [
        {
          "output_type": "execute_result",
          "data": {
            "text/html": [
              "<div>\n",
              "<style scoped>\n",
              "    .dataframe tbody tr th:only-of-type {\n",
              "        vertical-align: middle;\n",
              "    }\n",
              "\n",
              "    .dataframe tbody tr th {\n",
              "        vertical-align: top;\n",
              "    }\n",
              "\n",
              "    .dataframe thead th {\n",
              "        text-align: right;\n",
              "    }\n",
              "</style>\n",
              "<table border=\"1\" class=\"dataframe\">\n",
              "  <thead>\n",
              "    <tr style=\"text-align: right;\">\n",
              "      <th></th>\n",
              "      <th>review</th>\n",
              "      <th>sentiment</th>\n",
              "    </tr>\n",
              "  </thead>\n",
              "  <tbody>\n",
              "    <tr>\n",
              "      <th>0</th>\n",
              "      <td>In 1974, the teenager Martha Moxley (Maggie Gr...</td>\n",
              "      <td>1</td>\n",
              "    </tr>\n",
              "    <tr>\n",
              "      <th>1</th>\n",
              "      <td>OK... so... I really like Kris Kristofferson a...</td>\n",
              "      <td>0</td>\n",
              "    </tr>\n",
              "    <tr>\n",
              "      <th>2</th>\n",
              "      <td>***SPOILER*** Do not read this, if you think a...</td>\n",
              "      <td>0</td>\n",
              "    </tr>\n",
              "    <tr>\n",
              "      <th>3</th>\n",
              "      <td>hi for all the people who have seen this wonde...</td>\n",
              "      <td>1</td>\n",
              "    </tr>\n",
              "    <tr>\n",
              "      <th>4</th>\n",
              "      <td>I recently bought the DVD, forgetting just how...</td>\n",
              "      <td>0</td>\n",
              "    </tr>\n",
              "  </tbody>\n",
              "</table>\n",
              "</div>"
            ],
            "text/plain": [
              "                                              review  sentiment\n",
              "0  In 1974, the teenager Martha Moxley (Maggie Gr...          1\n",
              "1  OK... so... I really like Kris Kristofferson a...          0\n",
              "2  ***SPOILER*** Do not read this, if you think a...          0\n",
              "3  hi for all the people who have seen this wonde...          1\n",
              "4  I recently bought the DVD, forgetting just how...          0"
            ]
          },
          "metadata": {
            "tags": []
          },
          "execution_count": 5
        }
      ]
    },
    {
      "cell_type": "code",
      "metadata": {
        "colab": {
          "base_uri": "https://localhost:8080/",
          "height": 297
        },
        "id": "f5g9mckW0fdr",
        "outputId": "9a854c52-a3e0-4f13-f387-f76dd06dcd0f"
      },
      "source": [
        "imdb_data.describe()"
      ],
      "execution_count": null,
      "outputs": [
        {
          "output_type": "execute_result",
          "data": {
            "text/html": [
              "<div>\n",
              "<style scoped>\n",
              "    .dataframe tbody tr th:only-of-type {\n",
              "        vertical-align: middle;\n",
              "    }\n",
              "\n",
              "    .dataframe tbody tr th {\n",
              "        vertical-align: top;\n",
              "    }\n",
              "\n",
              "    .dataframe thead th {\n",
              "        text-align: right;\n",
              "    }\n",
              "</style>\n",
              "<table border=\"1\" class=\"dataframe\">\n",
              "  <thead>\n",
              "    <tr style=\"text-align: right;\">\n",
              "      <th></th>\n",
              "      <th>sentiment</th>\n",
              "    </tr>\n",
              "  </thead>\n",
              "  <tbody>\n",
              "    <tr>\n",
              "      <th>count</th>\n",
              "      <td>50000.000000</td>\n",
              "    </tr>\n",
              "    <tr>\n",
              "      <th>mean</th>\n",
              "      <td>0.500000</td>\n",
              "    </tr>\n",
              "    <tr>\n",
              "      <th>std</th>\n",
              "      <td>0.500005</td>\n",
              "    </tr>\n",
              "    <tr>\n",
              "      <th>min</th>\n",
              "      <td>0.000000</td>\n",
              "    </tr>\n",
              "    <tr>\n",
              "      <th>25%</th>\n",
              "      <td>0.000000</td>\n",
              "    </tr>\n",
              "    <tr>\n",
              "      <th>50%</th>\n",
              "      <td>0.500000</td>\n",
              "    </tr>\n",
              "    <tr>\n",
              "      <th>75%</th>\n",
              "      <td>1.000000</td>\n",
              "    </tr>\n",
              "    <tr>\n",
              "      <th>max</th>\n",
              "      <td>1.000000</td>\n",
              "    </tr>\n",
              "  </tbody>\n",
              "</table>\n",
              "</div>"
            ],
            "text/plain": [
              "          sentiment\n",
              "count  50000.000000\n",
              "mean       0.500000\n",
              "std        0.500005\n",
              "min        0.000000\n",
              "25%        0.000000\n",
              "50%        0.500000\n",
              "75%        1.000000\n",
              "max        1.000000"
            ]
          },
          "metadata": {
            "tags": []
          },
          "execution_count": 6
        }
      ]
    },
    {
      "cell_type": "code",
      "metadata": {
        "colab": {
          "base_uri": "https://localhost:8080/",
          "height": 296
        },
        "id": "o8UzEgLo0l0r",
        "outputId": "840d4a1c-214d-4ef2-a348-6900e5a59517"
      },
      "source": [
        "sns.set_style('whitegrid')\n",
        "sns.countplot(x='sentiment',data=imdb_data, palette='summer')"
      ],
      "execution_count": null,
      "outputs": [
        {
          "output_type": "execute_result",
          "data": {
            "text/plain": [
              "<matplotlib.axes._subplots.AxesSubplot at 0x7fbf5b96c9d0>"
            ]
          },
          "metadata": {
            "tags": []
          },
          "execution_count": 7
        },
        {
          "output_type": "display_data",
          "data": {
            "image/png": "[encoded data removed]",
            "text/plain": [
              "<Figure size 432x288 with 1 Axes>"
            ]
          },
          "metadata": {
            "tags": []
          }
        }
      ]
    },
    {
      "cell_type": "markdown",
      "metadata": {
        "id": "UvVMdpcg7Bq9"
      },
      "source": [
        "# Text Preprocessing"
      ]
    },
    {
      "cell_type": "code",
      "metadata": {
        "id": "odQ_1Vk10tbP"
      },
      "source": [
        "def remove_whitespace(text):\n",
        "    return  \" \".join(text.split())\n",
        "\n",
        "def strip_html(text):\n",
        "    soup = BeautifulSoup(text, \"html.parser\")\n",
        "    return soup.get_text()\n",
        "\n",
        "def remove_between_square_brackets(text):\n",
        "    return re.sub('\\[[^]]*\\]', '', text)\n",
        "\n",
        "def remove_special_characters(text):\n",
        "    pattern=r'[^a-zA-z0-9\\s]'\n",
        "    text=re.sub(pattern,'',text)\n",
        "    return text\n",
        "\n",
        "def remove_stopwords(text):\n",
        "    stop_words = set(nltk.corpus.stopwords.words('english'))\n",
        "    word_tokens = word_tokenize(text)\n",
        "    filtered_text = \" \".join([word for word in word_tokens if word not in stop_words])\n",
        "    return filtered_text\n",
        "\n",
        "def process_text(text):\n",
        "  text=remove_whitespace(text)\n",
        "  text=strip_html(text)\n",
        "  text=remove_between_square_brackets(text)\n",
        "  text=remove_special_characters(text)\n",
        "  text=remove_stopwords(text)\n",
        "  \n",
        "  return text\n"
      ],
      "execution_count": null,
      "outputs": []
    },
    {
      "cell_type": "code",
      "metadata": {
        "id": "0z5S0osd50P2"
      },
      "source": [
        "imdb_data['review']=imdb_data['review'].apply(process_text)"
      ],
      "execution_count": null,
      "outputs": []
    },
    {
      "cell_type": "code",
      "metadata": {
        "colab": {
          "base_uri": "https://localhost:8080/",
          "height": 204
        },
        "id": "RMuu5mt9508t",
        "outputId": "ca34915a-e913-44f2-8593-7f46f90e0fa0"
      },
      "source": [
        "imdb_data.head()"
      ],
      "execution_count": null,
      "outputs": [
        {
          "output_type": "execute_result",
          "data": {
            "text/html": [
              "<div>\n",
              "<style scoped>\n",
              "    .dataframe tbody tr th:only-of-type {\n",
              "        vertical-align: middle;\n",
              "    }\n",
              "\n",
              "    .dataframe tbody tr th {\n",
              "        vertical-align: top;\n",
              "    }\n",
              "\n",
              "    .dataframe thead th {\n",
              "        text-align: right;\n",
              "    }\n",
              "</style>\n",
              "<table border=\"1\" class=\"dataframe\">\n",
              "  <thead>\n",
              "    <tr style=\"text-align: right;\">\n",
              "      <th></th>\n",
              "      <th>review</th>\n",
              "      <th>sentiment</th>\n",
              "    </tr>\n",
              "  </thead>\n",
              "  <tbody>\n",
              "    <tr>\n",
              "      <th>0</th>\n",
              "      <td>In 1974 teenager Martha Moxley Maggie Grace mo...</td>\n",
              "      <td>1</td>\n",
              "    </tr>\n",
              "    <tr>\n",
              "      <th>1</th>\n",
              "      <td>OK I really like Kris Kristofferson usual easy...</td>\n",
              "      <td>0</td>\n",
              "    </tr>\n",
              "    <tr>\n",
              "      <th>2</th>\n",
              "      <td>SPOILER Do read think watching movie although ...</td>\n",
              "      <td>0</td>\n",
              "    </tr>\n",
              "    <tr>\n",
              "      <th>3</th>\n",
              "      <td>hi people seen wonderful movie im sure thet wo...</td>\n",
              "      <td>1</td>\n",
              "    </tr>\n",
              "    <tr>\n",
              "      <th>4</th>\n",
              "      <td>I recently bought DVD forgetting much I hated ...</td>\n",
              "      <td>0</td>\n",
              "    </tr>\n",
              "  </tbody>\n",
              "</table>\n",
              "</div>"
            ],
            "text/plain": [
              "                                              review  sentiment\n",
              "0  In 1974 teenager Martha Moxley Maggie Grace mo...          1\n",
              "1  OK I really like Kris Kristofferson usual easy...          0\n",
              "2  SPOILER Do read think watching movie although ...          0\n",
              "3  hi people seen wonderful movie im sure thet wo...          1\n",
              "4  I recently bought DVD forgetting much I hated ...          0"
            ]
          },
          "metadata": {
            "tags": []
          },
          "execution_count": 10
        }
      ]
    },
    {
      "cell_type": "code",
      "metadata": {
        "id": "KtbgKkG_DGPR"
      },
      "source": [
        "df_shuffled=shuffle(imdb_data)"
      ],
      "execution_count": null,
      "outputs": []
    },
    {
      "cell_type": "markdown",
      "metadata": {
        "id": "m5kRhELj-LOX"
      },
      "source": [
        "# Train Validation Split\n",
        "\n"
      ]
    },
    {
      "cell_type": "code",
      "metadata": {
        "id": "Y-djchAm7zx-"
      },
      "source": [
        "nb_validation_samples = int(VALIDATION_SPLIT * df_shuffled.shape[0])\n",
        "\n",
        "df_train_x=df_shuffled['review'][:-nb_validation_samples]\n",
        "df_train_y=df_shuffled['sentiment'][:-nb_validation_samples]\n",
        "df_val_x=df_shuffled['review'][-nb_validation_samples:]\n",
        "df_val_y=df_shuffled['sentiment'][-nb_validation_samples:]"
      ],
      "execution_count": null,
      "outputs": []
    },
    {
      "cell_type": "markdown",
      "metadata": {
        "id": "rRz5arxM-chy"
      },
      "source": [
        "## MODEL-1 BAG OF WORDS"
      ]
    },
    {
      "cell_type": "code",
      "metadata": {
        "id": "Gn0lzdp9-ova"
      },
      "source": [
        "from sklearn.feature_extraction.text import CountVectorizer"
      ],
      "execution_count": null,
      "outputs": []
    },
    {
      "cell_type": "code",
      "metadata": {
        "colab": {
          "base_uri": "https://localhost:8080/"
        },
        "id": "vHZ1bFyI-gEu",
        "outputId": "1e5efef6-024c-4539-cde6-240cc088b5e6"
      },
      "source": [
        "#Count vectorizer for bag of words\n",
        "cv=CountVectorizer(min_df=0,max_df=1,binary=False,ngram_range=(1,3))\n",
        "#transforming train reviews\n",
        "cv_train_reviews=cv.fit_transform(df_train_x)\n",
        "#transforming test reviews\n",
        "cv_test_reviews=cv.transform(df_val_x)\n",
        "print('BOW_cv_train:',cv_train_reviews.shape)\n",
        "print('BOW_cv_test:',cv_test_reviews.shape)"
      ],
      "execution_count": null,
      "outputs": [
        {
          "output_type": "stream",
          "text": [
            "BOW_cv_train: (40000, 6889014)\n",
            "BOW_cv_test: (10000, 6889014)\n"
          ],
          "name": "stdout"
        }
      ]
    },
    {
      "cell_type": "code",
      "metadata": {
        "id": "wvCYmvtyAUMZ"
      },
      "source": [
        "model_BOW=LogisticRegression(penalty='l2',max_iter=500,C=1,random_state=42)\n",
        "history_BOW=model_BOW.fit(cv_train_reviews,df_train_y)"
      ],
      "execution_count": null,
      "outputs": []
    },
    {
      "cell_type": "code",
      "metadata": {
        "colab": {
          "base_uri": "https://localhost:8080/"
        },
        "id": "nbylRTvL_aVk",
        "outputId": "a94b8175-46a1-4ec2-c251-471061c9d0f8"
      },
      "source": [
        "pred_BOW_val=model_BOW.predict(cv_test_reviews)\n",
        "lr_bow_score=accuracy_score(df_val_y,pred_BOW_val)\n",
        "print(\"lr_bow_score :\",lr_bow_score)"
      ],
      "execution_count": null,
      "outputs": [
        {
          "output_type": "stream",
          "text": [
            "lr_bow_score : 0.5601\n"
          ],
          "name": "stdout"
        }
      ]
    },
    {
      "cell_type": "markdown",
      "metadata": {
        "id": "AH_CkgzqCVvR"
      },
      "source": [
        "# Model-2 TF-IDF"
      ]
    },
    {
      "cell_type": "code",
      "metadata": {
        "id": "OxHnCpueHWgz"
      },
      "source": [
        "from sklearn.feature_extraction.text import TfidfVectorizer"
      ],
      "execution_count": null,
      "outputs": []
    },
    {
      "cell_type": "code",
      "metadata": {
        "colab": {
          "base_uri": "https://localhost:8080/"
        },
        "id": "QUY0jIdUBkRw",
        "outputId": "9114fc52-2b00-4709-adcf-61696c83fb9f"
      },
      "source": [
        "tv=TfidfVectorizer(min_df=0,max_df=1,use_idf=True,ngram_range=(1,3))\n",
        "tv_train_reviews=tv.fit_transform(df_train_x)\n",
        "tv_test_reviews=tv.transform(df_val_x)\n",
        "print('Tfidf_train:',tv_train_reviews.shape)\n",
        "print('Tfidf_test:',tv_test_reviews.shape)"
      ],
      "execution_count": null,
      "outputs": [
        {
          "output_type": "stream",
          "text": [
            "Tfidf_train: (40000, 6889014)\n",
            "Tfidf_test: (10000, 6889014)\n"
          ],
          "name": "stdout"
        }
      ]
    },
    {
      "cell_type": "code",
      "metadata": {
        "id": "xTtF8iG4Eu68"
      },
      "source": [
        "model_TFIDF=LogisticRegression(penalty='l2',max_iter=500,C=1,random_state=42)\n",
        "history_tfidf=model_TFIDF.fit(tv_train_reviews,df_train_y)"
      ],
      "execution_count": null,
      "outputs": []
    },
    {
      "cell_type": "code",
      "metadata": {
        "colab": {
          "base_uri": "https://localhost:8080/"
        },
        "id": "x9t4xfbNIDc3",
        "outputId": "0243c9cd-c238-48cb-d093-7728b70a3a8d"
      },
      "source": [
        "pred_tfidf_val=model_TFIDF.predict(tv_test_reviews)\n",
        "lr_tfidf_score=accuracy_score(df_val_y,pred_tfidf_val)\n",
        "print(\"lr_tfidf_score :\",lr_tfidf_score)"
      ],
      "execution_count": null,
      "outputs": [
        {
          "output_type": "stream",
          "text": [
            "lr_tfidf_score : 0.7514\n"
          ],
          "name": "stdout"
        }
      ]
    },
    {
      "cell_type": "markdown",
      "metadata": {
        "id": "u1S7svJxvGay"
      },
      "source": [
        "# Comparision\n"
      ]
    },
    {
      "cell_type": "code",
      "metadata": {
        "id": "OV3OE2TovEEr"
      },
      "source": [
        "print(\"Bag Of Words\")\n",
        "bow_report=classification_report(df_val_y,pred_BOW_val,target_names=['Positive','Negative'])\n",
        "print(bow_report)\n",
        "\n",
        "print(\"TF-IDF\")\n",
        "tfidf_report=classification_report(df_val_y,pred_tfidf_val,target_names=['Positive','Negative'])\n",
        "print(tfidf_report)\n"
      ],
      "execution_count": null,
      "outputs": []
    },
    {
      "cell_type": "markdown",
      "metadata": {
        "id": "RM-IsrP0Qldg"
      },
      "source": [
        "# Model-3 Deep Learning\n",
        "\n"
      ]
    },
    {
      "cell_type": "code",
      "metadata": {
        "id": "IE15X62zRsIB"
      },
      "source": [
        "import keras\n",
        "from keras.preprocessing.text import Tokenizer\n",
        "from keras.preprocessing.sequence import pad_sequences\n",
        "from keras.utils.np_utils import to_categorical\n",
        "from numpy.random import RandomState"
      ],
      "execution_count": null,
      "outputs": []
    },
    {
      "cell_type": "code",
      "metadata": {
        "id": "bA3rT3Y-SFpp"
      },
      "source": [
        "prng = RandomState(1234567890)\n",
        "MAX_SEQUENCE_LENGTH = 1000\n",
        "MAX_NB_WORDS = 20000\n",
        "\n",
        "EMBEDDING_DIM = 200\n",
        "GLOVE_DIR = '/content/drive/MyDrive/gove.twitter.27B/'\n",
        "GLOVE_FILE = 'glove.twitter.27B.200d.txt'"
      ],
      "execution_count": null,
      "outputs": []
    },
    {
      "cell_type": "code",
      "metadata": {
        "id": "oDKa8oQZI12_"
      },
      "source": [
        "def tokenize_data(X_raw, Y_raw):\n",
        "    tokenizer = Tokenizer(nb_words=MAX_NB_WORDS)\n",
        "    tokenizer.fit_on_texts(X_raw)\n",
        "    sequences = tokenizer.texts_to_sequences(X_raw)\n",
        "    print(\"seq\",sequences)\n",
        "    word_index = tokenizer.word_index\n",
        "    X_processed = pad_sequences(sequences, maxlen=MAX_SEQUENCE_LENGTH)\n",
        "    Y_processed = to_categorical(np.asarray(Y_raw), 2)\n",
        "    \n",
        "    return X_processed, Y_processed, word_index\n",
        "\n",
        "def split_the_data(X_processed, Y_processed):\n",
        "    indices = np.arange(X_processed.shape[0])\n",
        "    prng.shuffle(indices)\n",
        "    X_processed = X_processed[indices]\n",
        "    Y_processed = Y_processed[indices]\n",
        "    nb_validation_samples = int(VALIDATION_SPLIT * X_processed.shape[0])\n",
        "    x_train = X_processed[:-nb_validation_samples]\n",
        "    y_train = Y_processed[:-nb_validation_samples]\n",
        "    x_val = X_processed[-nb_validation_samples:]\n",
        "    y_val = Y_processed[-nb_validation_samples:]\n",
        "\n",
        "    return x_train, x_val, y_train, y_val\n",
        "\n",
        "def get_training_and_validation_array():\n",
        "    Y_raw=df_shuffled['sentiment'].values\n",
        "    X_raw=df_shuffled['review'].values\n",
        "    X_processed, Y_processed, word_index = tokenize_data(X_raw, Y_raw)\n",
        "    x_train, x_val, y_train, y_val = split_the_data(X_processed, Y_processed)\n",
        "    return word_index, x_train, x_val, y_train, y_val\n",
        "\n",
        "def get_embeddings():\n",
        "    embeddings = {}\n",
        "    with open(os.path.join(GLOVE_DIR, GLOVE_FILE), 'r') as f:\n",
        "        for line in f:\n",
        "            values = line.split()\n",
        "            word = values[0]\n",
        "            coefs = np.asarray(values[1:], dtype='float32')\n",
        "            embeddings[word] = coefs\n",
        "    return embeddings"
      ],
      "execution_count": null,
      "outputs": []
    },
    {
      "cell_type": "code",
      "metadata": {
        "id": "0Hyb7CzsRNZ3"
      },
      "source": [
        "def make_embedding_layer(word_index):\n",
        "    embeddings = get_embeddings()\n",
        "    nb_words = min(MAX_NB_WORDS, len(word_index))\n",
        "    embedding_matrix = np.zeros((nb_words, EMBEDDING_DIM))\n",
        "\n",
        "    for word, i in word_index.items():\n",
        "        if i >= MAX_NB_WORDS:\n",
        "            continue\n",
        "        embedding_vector = embeddings.get(word)\n",
        "        if embedding_vector is not None:\n",
        "            embedding_matrix[i] = embedding_vector\n",
        "\n",
        "    embedding_layer = keras.layers.Embedding(nb_words, EMBEDDING_DIM, weights=[embedding_matrix], input_length=MAX_SEQUENCE_LENGTH, trainable=False)\n",
        "    return embedding_layer\n",
        "    "
      ],
      "execution_count": null,
      "outputs": []
    },
    {
      "cell_type": "code",
      "metadata": {
        "colab": {
          "base_uri": "https://localhost:8080/"
        },
        "id": "N83WCz-pgWhh",
        "outputId": "b5eb4989-38ef-4745-e533-2ab9dc7dfa57"
      },
      "source": [
        "word_index, x_train, x_val, y_train, y_val = get_training_and_validation_array()\n"
      ],
      "execution_count": null,
      "outputs": [
        {
          "output_type": "stream",
          "text": [
            "/usr/local/lib/python3.7/dist-packages/keras_preprocessing/text.py:180: UserWarning: The `nb_words` argument in `Tokenizer` has been renamed `num_words`.\n",
            "  warnings.warn('The `nb_words` argument in `Tokenizer` '\n",
            "IOPub data rate exceeded.\n",
            "The notebook server will temporarily stop sending output\n",
            "to the client in order to avoid crashing it.\n",
            "To change this limit, set the config variable\n",
            "`--NotebookApp.iopub_data_rate_limit`.\n",
            "\n",
            "Current values:\n",
            "NotebookApp.iopub_data_rate_limit=1000000.0 (bytes/sec)\n",
            "NotebookApp.rate_limit_window=3.0 (secs)\n",
            "\n"
          ],
          "name": "stderr"
        }
      ]
    },
    {
      "cell_type": "code",
      "metadata": {
        "id": "APi0w6tHRaP_"
      },
      "source": [
        "def make_model(labels_index, word_index):\n",
        "    embedded_sequences = make_embedding_layer(word_index)\n",
        "    model = keras.models.Sequential([\n",
        "        embedded_sequences,\n",
        "        keras.layers.Conv1D(512, 5, activation='relu'),\n",
        "        keras.layers.AveragePooling1D(5),\n",
        "        keras.layers.Conv1D(256, 5, activation='relu'),\n",
        "        keras.layers.AveragePooling1D(5),\n",
        "        keras.layers.Conv1D(128, 5, activation='relu'),\n",
        "        keras.layers.MaxPooling1D(5),\n",
        "        keras.layers.Flatten(),\n",
        "        keras.layers.Dropout(0.3),\n",
        "        keras.layers.Dense(128, activation='relu'),\n",
        "        keras.layers.Dense(len(labels_index), activation='softmax')\n",
        "    ])\n",
        "\n",
        "    model.compile(loss='binary_crossentropy',optimizer='adam',metrics=['accuracy'])\n",
        "    return model"
      ],
      "execution_count": null,
      "outputs": []
    },
    {
      "cell_type": "code",
      "metadata": {
        "id": "ZNVTBCx_YdEz"
      },
      "source": [
        "def pred_to_1d(pred_deep_val):\n",
        "  res=[1 if x>0.8 else 0 for x in pred_deep_val]\n",
        "  return res\n"
      ],
      "execution_count": null,
      "outputs": []
    },
    {
      "cell_type": "code",
      "metadata": {
        "id": "ZL0CWHggRaz7"
      },
      "source": [
        "def train(model, x_train, x_val, y_train, y_val):\n",
        "    cb = [keras.callbacks.ModelCheckpoint(\"weights.h5\", save_best_only=True, save_weights_only=False)]\n",
        "    history = model.fit(x_train, y_train, validation_data=(x_val, y_val), epochs=10, batch_size=256, callbacks=cb)\n",
        "    return history"
      ],
      "execution_count": null,
      "outputs": []
    },
    {
      "cell_type": "code",
      "metadata": {
        "colab": {
          "base_uri": "https://localhost:8080/"
        },
        "id": "ImocdjnYRl9J",
        "outputId": "3737ebd4-5cdd-452f-e20e-e0cc8546470e"
      },
      "source": [
        "labels_index = [0,1]\n",
        "model_deep = make_model(labels_index, word_index)\n",
        "model_deep.summary()"
      ],
      "execution_count": null,
      "outputs": [
        {
          "output_type": "stream",
          "text": [
            "Model: \"sequential_7\"\n",
            "_________________________________________________________________\n",
            "Layer (type)                 Output Shape              Param #   \n",
            "=================================================================\n",
            "embedding_5 (Embedding)      (None, 1000, 200)         4000000   \n",
            "_________________________________________________________________\n",
            "conv1d_6 (Conv1D)            (None, 996, 512)          512512    \n",
            "_________________________________________________________________\n",
            "average_pooling1d_4 (Average (None, 199, 512)          0         \n",
            "_________________________________________________________________\n",
            "conv1d_7 (Conv1D)            (None, 195, 256)          655616    \n",
            "_________________________________________________________________\n",
            "average_pooling1d_5 (Average (None, 39, 256)           0         \n",
            "_________________________________________________________________\n",
            "conv1d_8 (Conv1D)            (None, 35, 128)           163968    \n",
            "_________________________________________________________________\n",
            "max_pooling1d_2 (MaxPooling1 (None, 7, 128)            0         \n",
            "_________________________________________________________________\n",
            "flatten_2 (Flatten)          (None, 896)               0         \n",
            "_________________________________________________________________\n",
            "dropout_2 (Dropout)          (None, 896)               0         \n",
            "_________________________________________________________________\n",
            "dense_9 (Dense)              (None, 128)               114816    \n",
            "_________________________________________________________________\n",
            "dense_10 (Dense)             (None, 2)                 258       \n",
            "=================================================================\n",
            "Total params: 5,447,170\n",
            "Trainable params: 1,447,170\n",
            "Non-trainable params: 4,000,000\n",
            "_________________________________________________________________\n"
          ],
          "name": "stdout"
        }
      ]
    },
    {
      "cell_type": "code",
      "metadata": {
        "colab": {
          "base_uri": "https://localhost:8080/",
          "height": 1148
        },
        "id": "_FemRYBISOmt",
        "outputId": "2d75cb36-15f9-4859-80e6-90e6d7c02459"
      },
      "source": [
        "keras.utils.vis_utils.plot_model(model_deep,)"
      ],
      "execution_count": null,
      "outputs": [
        {
          "output_type": "execute_result",
          "data": {
            "image/png": "[encoded data removed]",
            "text/plain": [
              "<IPython.core.display.Image object>"
            ]
          },
          "metadata": {
            "tags": []
          },
          "execution_count": 172
        }
      ]
    },
    {
      "cell_type": "code",
      "metadata": {
        "colab": {
          "base_uri": "https://localhost:8080/"
        },
        "id": "MMPOWjOJSnbY",
        "outputId": "bfe8d449-f0df-4cac-d682-70f13a6579ae"
      },
      "source": [
        "history_deep=train(model_deep, x_train, x_val, y_train, y_val)"
      ],
      "execution_count": null,
      "outputs": [
        {
          "output_type": "stream",
          "text": [
            "Epoch 1/10\n",
            "157/157 [==============================] - 41s 255ms/step - loss: 0.5299 - accuracy: 0.7125 - val_loss: 0.3408 - val_accuracy: 0.8500\n",
            "Epoch 2/10\n",
            "157/157 [==============================] - 40s 254ms/step - loss: 0.3388 - accuracy: 0.8542 - val_loss: 0.3360 - val_accuracy: 0.8532\n",
            "Epoch 3/10\n",
            "157/157 [==============================] - 41s 260ms/step - loss: 0.2701 - accuracy: 0.8895 - val_loss: 0.3094 - val_accuracy: 0.8700\n",
            "Epoch 4/10\n",
            "157/157 [==============================] - 41s 263ms/step - loss: 0.1818 - accuracy: 0.9330 - val_loss: 0.3044 - val_accuracy: 0.8773\n",
            "Epoch 5/10\n",
            "157/157 [==============================] - 41s 261ms/step - loss: 0.0988 - accuracy: 0.9670 - val_loss: 0.3761 - val_accuracy: 0.8748\n",
            "Epoch 6/10\n",
            "157/157 [==============================] - 41s 261ms/step - loss: 0.0610 - accuracy: 0.9803 - val_loss: 0.4658 - val_accuracy: 0.8739\n",
            "Epoch 7/10\n",
            "157/157 [==============================] - 41s 261ms/step - loss: 0.0202 - accuracy: 0.9937 - val_loss: 0.5226 - val_accuracy: 0.8736\n",
            "Epoch 8/10\n",
            "157/157 [==============================] - 41s 262ms/step - loss: 0.0157 - accuracy: 0.9947 - val_loss: 0.5662 - val_accuracy: 0.8744\n",
            "Epoch 9/10\n",
            "157/157 [==============================] - 41s 261ms/step - loss: 0.0132 - accuracy: 0.9954 - val_loss: 0.6336 - val_accuracy: 0.8544\n",
            "Epoch 10/10\n",
            "157/157 [==============================] - 41s 261ms/step - loss: 0.0335 - accuracy: 0.9888 - val_loss: 0.6117 - val_accuracy: 0.8681\n"
          ],
          "name": "stdout"
        }
      ]
    },
    {
      "cell_type": "code",
      "metadata": {
        "colab": {
          "base_uri": "https://localhost:8080/",
          "height": 295
        },
        "id": "njtFzlVmw-8q",
        "outputId": "24797ca8-50bb-4c04-dec5-b47281f8b4fa"
      },
      "source": [
        "legends=list(history_deep.history.keys())\n",
        "for k in history_deep.history.keys():\n",
        "  plt.plot(history_deep.history[k])\n",
        "plt.title('model accuracy')\n",
        "plt.ylabel('accuracy')\n",
        "plt.xlabel('epoch')\n",
        "plt.legend(legends, loc='upper left')\n",
        "plt.show()"
      ],
      "execution_count": null,
      "outputs": [
        {
          "output_type": "display_data",
          "data": {
            "image/png": "[encoded data removed]",
            "text/plain": [
              "<Figure size 432x288 with 1 Axes>"
            ]
          },
          "metadata": {
            "tags": []
          }
        }
      ]
    },
    {
      "cell_type": "code",
      "metadata": {
        "id": "wb65hs4XSpIg"
      },
      "source": [
        "pred_deep_val = model_deep.predict(x=x_val, batch_size=256)"
      ],
      "execution_count": null,
      "outputs": []
    },
    {
      "cell_type": "code",
      "metadata": {
        "id": "OUWOhHlPXU9C"
      },
      "source": [
        "from sklearn import metrics\n",
        "def evaluate(expected_out, predicted_out):\n",
        "    expected_categories = [np.argmax(x) for x in expected_out]\n",
        "    predicted_categories = [np.argmax(x) for x in predicted_out]\n",
        "    \n",
        "    cm = confusion_matrix(expected_categories, predicted_categories)\n",
        "    precision_score=metrics.precision_score(expected_categories, predicted_categories)\n",
        "    recall=metrics.recall_score(expected_categories, predicted_categories)\n",
        "    f1=metrics.f1_score(expected_categories, predicted_categories)\n",
        "\n",
        "    print(\"Confusion Matrix:-\\n\",cm)\n",
        "    print(\"precision:-\", precision_score)\n",
        "    print(\"Recall:-\", recall)\n",
        "    print(\"f1:-\", f1)"
      ],
      "execution_count": null,
      "outputs": []
    },
    {
      "cell_type": "code",
      "metadata": {
        "colab": {
          "base_uri": "https://localhost:8080/"
        },
        "id": "-DxVeCz6XXK0",
        "outputId": "6c2e3ed2-f3a1-41b8-83ef-1db1bc87cd95"
      },
      "source": [
        "evaluate(y_val, pred_deep_val)"
      ],
      "execution_count": null,
      "outputs": [
        {
          "output_type": "stream",
          "text": [
            "Confusion Matrix:-\n",
            " [[4097  828]\n",
            " [ 491 4584]]\n",
            "precision:- 0.8470066518847007\n",
            "Recall:- 0.9032512315270936\n",
            "f1:- 0.8742252312386766\n"
          ],
          "name": "stdout"
        }
      ]
    },
    {
      "cell_type": "code",
      "metadata": {
        "id": "nMAtb6p-tSYe"
      },
      "source": [
        ""
      ],
      "execution_count": null,
      "outputs": []
    }
  ]
}